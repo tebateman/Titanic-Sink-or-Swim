{
  "cells": [
    {
      "metadata": {
        "_uuid": "8f2839f25d086af736a60e9eeb907d3b93b6e0e5",
        "_cell_guid": "b1076dfc-b9ad-4769-8c92-a6c4dae69d19",
        "trusted": true,
        "collapsed": true
      },
      "cell_type": "code",
      "source": "# This Python 3 environment comes with many helpful analytics libraries installed\n# It is defined by the kaggle/python docker image: https://github.com/kaggle/docker-python\n# For example, here's several helpful packages to load in \n\nimport numpy as np # linear algebra\nimport pandas as pd # data processing, CSV file I/O (e.g. pd.read_csv)\nfrom sklearn.ensemble import RandomForestClassifier\nfrom sklearn.metrics import accuracy_score\nfrom sklearn.metrics import confusion_matrix\n\n# Input data files are available in the \"../input/\" directory.\n# For example, running this (by clicking run or pressing Shift+Enter) will list the files in the input directory\n\nimport os\nprint(os.listdir(\"../input\"))\n# Any results you write to the current directory are saved as output.",
      "execution_count": null,
      "outputs": []
    },
    {
      "metadata": {
        "_cell_guid": "79c7e3d0-c299-4dcb-8224-4455121ee9b0",
        "_uuid": "d629ff2d2480ee46fbb7e2d37f6b5fab8052498a",
        "trusted": true,
        "collapsed": true
      },
      "cell_type": "code",
      "source": "titanic_train = pd.read_csv('../input/train.csv')\ntitanic_test = pd.read_csv('../input/test.csv') \n\ntitanic_train['Train'] = 1\ntitanic_test['Train'] = 0\ntitanic = titanic_train.drop(['Survived'],axis=1)\ntitanic = pd.concat([titanic,titanic_test])",
      "execution_count": null,
      "outputs": []
    },
    {
      "metadata": {
        "_uuid": "167950a9d4556b3a3ccc375365772bcae965cf2a"
      },
      "cell_type": "markdown",
      "source": "# Clean Data"
    },
    {
      "metadata": {
        "trusted": true,
        "_uuid": "5a2355eda96a3b857f930feef398a8a9b3b65532",
        "collapsed": true
      },
      "cell_type": "code",
      "source": "titanic['Age'].median()",
      "execution_count": null,
      "outputs": []
    },
    {
      "metadata": {
        "trusted": true,
        "_uuid": "4367eb71771aa586ff6d1434a2007cba52824435",
        "collapsed": true
      },
      "cell_type": "code",
      "source": "# Check for null value %\n\n(titanic.isnull().sum(axis=0))/titanic.count()",
      "execution_count": null,
      "outputs": []
    },
    {
      "metadata": {
        "trusted": true,
        "_uuid": "0878fb427e6b02e816a0d8277073e744be40d221",
        "collapsed": true
      },
      "cell_type": "code",
      "source": "# Let's try to impute age first\n\ntitanic['Age']=titanic['Age'].fillna(titanic[\"Age\"].median())\n\n# Let's impute embarked by finding the mode and filling\nemb = titanic['Embarked'].mode()\nemb = emb[0]\ntitanic['Embarked']=titanic['Embarked'].fillna(emb)\n\n# Let's impute \ntitanic.isnull().sum(axis=0)",
      "execution_count": null,
      "outputs": []
    },
    {
      "metadata": {
        "_uuid": "d8a7e4ff64e63e61ade76554b166505b3f7b51f9"
      },
      "cell_type": "markdown",
      "source": "# Feature Engineering\n"
    },
    {
      "metadata": {
        "_uuid": "5416c4b8cdbd9b89947ff3d26834956ad2350ff5"
      },
      "cell_type": "markdown",
      "source": "There are a number of options for engineering variables from the existing data. The two opportunities to create new variables are Salutation and Family Size. Let's create family size using SibSp and Parch which provide the siblings, parents, children and partners of passengers onboard the titanic. \n\n$Family Size = SibSp + Parch$"
    },
    {
      "metadata": {
        "trusted": true,
        "collapsed": true,
        "_uuid": "c9afc0f4bd00b8fece028b6514171cdf8135e446"
      },
      "cell_type": "code",
      "source": "titanic['Family_Size'] = titanic['SibSp']+titanic['Parch']",
      "execution_count": null,
      "outputs": []
    },
    {
      "metadata": {
        "trusted": true,
        "_uuid": "bfba35f5a5b9c949eb4797702db27d1ba07f4914",
        "collapsed": true
      },
      "cell_type": "code",
      "source": "#Now let's split out the Salutation from 'Name'\ntitanic['Salutation'] = titanic['Name'].apply(lambda x: x.split(\",\")[1:])\ntitanic['Salutation'] = titanic['Salutation'].apply(lambda x: x[0])\ntitanic['Salutation'] = titanic['Salutation'].apply(lambda x: x.split(\".\")[:1])\ntitanic['Salutation'] = titanic['Salutation'].apply(lambda x: x[0])",
      "execution_count": null,
      "outputs": []
    },
    {
      "metadata": {
        "trusted": true,
        "collapsed": true,
        "_uuid": "6f94d4bdc54089a331c26f18f9a1b0129c288ed3"
      },
      "cell_type": "code",
      "source": "#Create age groups to analyse the relationship between age and survival\ntitanic['Age_Group'] = titanic['Age'].apply(lambda x: '0-10' if x <= 10 else '11-20' if 11 >= x <= 20 else '21-30' if 21 >= x <= 30 else '31-50' if 31 >= x <= 50 else '51-70' if 51 >= x <= 70 else '71+')",
      "execution_count": null,
      "outputs": []
    },
    {
      "metadata": {
        "trusted": true,
        "collapsed": true,
        "_uuid": "873590c13657bf6c462d34adbf048cafb745d1c7"
      },
      "cell_type": "markdown",
      "source": "# One Hot Encoding"
    },
    {
      "metadata": {
        "trusted": true,
        "_uuid": "ef011021c24d569d5f9ff73afefde4850fafcf25",
        "collapsed": true
      },
      "cell_type": "code",
      "source": "# Clean up the variables before one hot encoding\n# Drop passengerId as this just a unique ID assigned to passengers\n#titanic.drop(['PassengerId'], axis=1, inplace=True)\n# Drop name as this cannot be used in the model\ntitanic.drop(['Name'], axis=1, inplace=True)\n# Drop ticket as the string format is inconsistent\ntitanic.drop(['Ticket'], axis=1, inplace=True)\n# Drop cabin as the calues are inconsistent as well as many missing values\ntitanic.drop(['Cabin'], axis=1, inplace=True)",
      "execution_count": null,
      "outputs": []
    },
    {
      "metadata": {
        "trusted": true,
        "_uuid": "0efc21848733c07c6b21b71c87ad0b7442ae8aa3",
        "collapsed": true
      },
      "cell_type": "code",
      "source": "# Next let's create dummy variables ready to train the model\n\ndef get_dummies(df):\n    cols = df.select_dtypes(include='object')\n    for i in cols:\n        dummy = pd.get_dummies(df[i], prefix= i + '_')\n        df = pd.concat([df,dummy], axis=1)\n        df.drop([i], axis=1,inplace=True)\n    return df\n\ntitanic_new = get_dummies(titanic)",
      "execution_count": null,
      "outputs": []
    },
    {
      "metadata": {
        "trusted": true,
        "_uuid": "03e51750dcaf38e9cfe2f0651bfe67d164df8a84",
        "collapsed": true
      },
      "cell_type": "code",
      "source": "#titanic_new = titanic_new[['PassengerId','Age', 'Fare','Family_Size','Sex__female', 'Sex__male','Embarked__C','Embarked__S', 'Salutation__ Mr','Train']]",
      "execution_count": null,
      "outputs": []
    },
    {
      "metadata": {
        "trusted": true,
        "collapsed": true,
        "_uuid": "0fdf36eb28817a400c337b701415fc6a9e9c342f"
      },
      "cell_type": "markdown",
      "source": "# Train Model"
    },
    {
      "metadata": {
        "trusted": true,
        "_uuid": "b4397ab8b98aa99de159790344a60336fb87b62d",
        "collapsed": true
      },
      "cell_type": "code",
      "source": "# Split out test and train again\ntitanic_train_new = titanic_new[titanic_new['Train'] == 1]\ntitanic_test_new = titanic_new[titanic_new['Train'] == 0]",
      "execution_count": null,
      "outputs": []
    },
    {
      "metadata": {
        "trusted": true,
        "_uuid": "c7c3ec406f25805af0987f705e3fb538ee57b474",
        "collapsed": true
      },
      "cell_type": "code",
      "source": "titanic_train_new = titanic_train_new.drop(['Train'],axis=1)\ntitanic_test_new = titanic_test_new.drop(['Train'],axis=1)",
      "execution_count": null,
      "outputs": []
    },
    {
      "metadata": {
        "trusted": true,
        "_uuid": "01da360e28e38a7eb0f123d276b8fc6d3c8ea4e5",
        "collapsed": true
      },
      "cell_type": "code",
      "source": "train_y = titanic_train['Survived']\ntrain_x = titanic_train_new.iloc[:,1:]\n# Create a random forest Classifier. By convention, clf means 'Classifier'\nclf = RandomForestClassifier(bootstrap=False, n_jobs=100, random_state=0,max_features='sqrt')\nclf.fit(train_x,train_y,)",
      "execution_count": null,
      "outputs": []
    },
    {
      "metadata": {
        "trusted": true,
        "_uuid": "b54dd92065865e19a21cac164ea1e87dddf85da2",
        "collapsed": true
      },
      "cell_type": "code",
      "source": "importance = list(zip(train_x.columns, clf.feature_importances_))\nimportance",
      "execution_count": null,
      "outputs": []
    },
    {
      "metadata": {
        "trusted": true,
        "_uuid": "749e43e2b7ff179bc1403d41016d7d503c77b236",
        "collapsed": true
      },
      "cell_type": "code",
      "source": " accuracy_score(train_y, clf.predict(train_x))",
      "execution_count": null,
      "outputs": []
    },
    {
      "metadata": {
        "trusted": true,
        "_uuid": "ec83dfc1d59755be9bcce0ca7c39521fc1f07038",
        "collapsed": true
      },
      "cell_type": "code",
      "source": "pd.DataFrame(\n    confusion_matrix(train_y, clf.predict(train_x)),\n    columns=['Predicted Survived', 'Predicted Died'],\n    index=['True Survived', 'True Died']\n)",
      "execution_count": null,
      "outputs": []
    },
    {
      "metadata": {
        "_uuid": "1eb144faf8597ee38940dee6020d3277d4a08057"
      },
      "cell_type": "markdown",
      "source": "# Apply to test"
    },
    {
      "metadata": {
        "trusted": true,
        "_uuid": "26e97f822af30f327f0f93107c98080e1e6cd4fc",
        "collapsed": true
      },
      "cell_type": "code",
      "source": "key = titanic_test_new['PassengerId']\ntest_x = titanic_test_new.iloc[:,1:]\ntest_x = test_x.fillna(method='ffill')",
      "execution_count": null,
      "outputs": []
    },
    {
      "metadata": {
        "trusted": true,
        "_uuid": "a67599943fd66c9a9a1cdd88184b7a3dec42effe",
        "collapsed": true
      },
      "cell_type": "code",
      "source": "predict_y = clf.predict(test_x)\npredict_y = pd.DataFrame(predict_y,columns=['Survived'])\nresults = pd.concat([key,predict_y],axis=1)",
      "execution_count": null,
      "outputs": []
    },
    {
      "metadata": {
        "trusted": true,
        "_uuid": "6e63c5085f24878e54d15935e6716d1440cb6011",
        "collapsed": true
      },
      "cell_type": "code",
      "source": "results.to_csv('titanic_sink_swim_2.csv', index=False, header=True)",
      "execution_count": null,
      "outputs": []
    }
  ],
  "metadata": {
    "kernelspec": {
      "display_name": "Python 3",
      "language": "python",
      "name": "python3"
    },
    "language_info": {
      "name": "python",
      "version": "3.6.6",
      "mimetype": "text/x-python",
      "codemirror_mode": {
        "name": "ipython",
        "version": 3
      },
      "pygments_lexer": "ipython3",
      "nbconvert_exporter": "python",
      "file_extension": ".py"
    }
  },
  "nbformat": 4,
  "nbformat_minor": 1
}